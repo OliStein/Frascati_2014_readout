{
 "metadata": {
  "name": "",
  "signature": "sha256:90615ba7589914337389c6841172194558620ccff8ca9bf3b04b516c5ab104c2"
 },
 "nbformat": 3,
 "nbformat_minor": 0,
 "worksheets": [
  {
   "cells": [
    {
     "cell_type": "code",
     "collapsed": false,
     "input": [
      "import numpy as np\n",
      "import matplotlib.pyplot as plt\n",
      "import pandas as pd\n",
      "\n",
      "%matplotlib inline"
     ],
     "language": "python",
     "metadata": {},
     "outputs": [],
     "prompt_number": 7
    },
    {
     "cell_type": "code",
     "collapsed": false,
     "input": [
      "#Import the data into the dataframe.\n",
      "filename = '/home/csoerens/Desktop/python/Frascati_Data_Analysis/data/ana_file.csv'\n",
      "df = pd.read_csv(filename)"
     ],
     "language": "python",
     "metadata": {},
     "outputs": [],
     "prompt_number": 5
    },
    {
     "cell_type": "heading",
     "level": 3,
     "metadata": {},
     "source": [
      "Example: Indexing in the dataframe"
     ]
    },
    {
     "cell_type": "code",
     "collapsed": false,
     "input": [
      "#The possible entries we can choose from is:\n",
      "print list(df) #Or remove the leading print to get a long list."
     ],
     "language": "python",
     "metadata": {},
     "outputs": [
      {
       "output_type": "stream",
       "stream": "stdout",
       "text": [
        "['id', 'meas. type', 'run', 'date', 'detector', 'type', 'xpos', 'ypos', 'ref.', 'ref. DAQ', 'att. ref.', 'volt. ref.', 'diamond', 'att. diamond', 'shunt', 'volt. dBLM', 'scpr11', 'scpr12', 'scpr21', 'scpr22', 'udc', 'meas. nr.', 'time', 'UTCtime', 'WC', 'WC sig.', 'WC offset', 'WC noise', 'WC smoothed', 'WC max. sig.', 'WC SNR', 'WC FWHM', 'WC int.', 'WC charge sig.', 'WC ppb', 'icBLM', 'icBLM sig.', 'icBLM offset', 'icBLM noise', 'icBLM smoothed', 'icBLM max. sig.', 'icBLM SNR', 'icBLM max sig. att. corr.', 'icBLM FWHM', 'icBLM int.', 'icBLM int. att. corr.', 'icBLM charge sig.', 'icBLM ppb', 'keithley data', 'keithley timestamp', 'dBLM', 'dBLM sig.', 'dBLM offset', 'dBLM noise', 'dBLM smoothed', 'dBLM max. sig.', 'dBLM SNR', 'dBLM max sig. att. corr.', 'dBLM FWHM', 'dBLM int.', 'dBLM int. att. corr.', 'dBLM charge sig.', 'analyzed', 'file']\n"
       ]
      }
     ],
     "prompt_number": 10
    },
    {
     "cell_type": "code",
     "collapsed": false,
     "input": [
      "#Plotting a specific kind of data:\n",
      "data = df['dBLM SNR']\n",
      "plt.hist(data)\n",
      "plt.title('Histogram of dBLM SNR\\'s')"
     ],
     "language": "python",
     "metadata": {},
     "outputs": [
      {
       "metadata": {},
       "output_type": "pyout",
       "prompt_number": 12,
       "text": [
        "<matplotlib.text.Text at 0x4ea9110>"
       ]
      },
      {
       "metadata": {},
       "output_type": "display_data",
       "png": "[encoded data removed]",
       "text": [
        "<matplotlib.figure.Figure at 0x4c92650>"
       ]
      }
     ],
     "prompt_number": 12
    },
    {
     "cell_type": "heading",
     "level": 3,
     "metadata": {},
     "source": [
      "Example: Using boolean expressions for filtering data"
     ]
    },
    {
     "cell_type": "code",
     "collapsed": false,
     "input": [
      "#This also takes the zero-entries into account, and we're not particularly interested in those. \n",
      "#Therefore we'd like to be able to sort the data more elegantly:\n",
      "data    =     df[df['dBLM SNR'] != 0.0]                              ['dBLM SNR']\n",
      "#Variable=   df [ boolean condition of which lines we want to plot ] [what column we'd like to plot ]\n",
      "#Note: the whitespace is not important:\n",
      "data = df[df['dBLM SNR'] != 0.0]['dBLM SNR']\n",
      "plt.hist(data)\n",
      "plt.title('Histogram of non-zero dBLM SNR\\'s')\n",
      "plt.xlabel('SNR')\n",
      "plt.ylabel('Occurences')"
     ],
     "language": "python",
     "metadata": {},
     "outputs": [
      {
       "metadata": {},
       "output_type": "pyout",
       "prompt_number": 19,
       "text": [
        "<matplotlib.text.Text at 0x54ee810>"
       ]
      },
      {
       "metadata": {},
       "output_type": "display_data",
       "png": "[encoded data removed]",
       "text": [
        "<matplotlib.figure.Figure at 0x5646510>"
       ]
      }
     ],
     "prompt_number": 19
    },
    {
     "cell_type": "code",
     "collapsed": false,
     "input": [
      "#Boolean selection of data also works with strings:\n",
      "# If I want the voltage scans, identified by the tag 'meas. type', I can filter with 'vs':\n",
      "datax = df[df['meas. type']=='vs']['WC offset']\n",
      "datay = df[df['meas. type']=='vs']['icBLM offset']\n",
      "plt.plot(datax, datay, 'o')"
     ],
     "language": "python",
     "metadata": {},
     "outputs": [
      {
       "metadata": {},
       "output_type": "pyout",
       "prompt_number": 21,
       "text": [
        "[<matplotlib.lines.Line2D at 0x5da8890>]"
       ]
      },
      {
       "metadata": {},
       "output_type": "display_data",
       "png": "[encoded data removed]",
       "text": [
        "<matplotlib.figure.Figure at 0x4a78610>"
       ]
      }
     ],
     "prompt_number": 21
    },
    {
     "cell_type": "heading",
     "level": 3,
     "metadata": {},
     "source": [
      "Example: Elaborate indexing:"
     ]
    },
    {
     "cell_type": "code",
     "collapsed": false,
     "input": [
      "#It's possible to apply more than one filter at a time with & (and) and | (or):\n",
      "data = df[(df['volt. dBLM']==100.0)  & (df['dBLM SNR'] > 0.0)]['dBLM SNR']\n",
      "plt.hist(data)\n",
      "plt.title('Histogram of non-zero dBLM SNR\\'s, with 100V dBLM excitation')\n",
      "plt.xlabel('SNR')\n",
      "plt.ylabel('Occurences')"
     ],
     "language": "python",
     "metadata": {},
     "outputs": [
      {
       "metadata": {},
       "output_type": "pyout",
       "prompt_number": 35,
       "text": [
        "<matplotlib.text.Text at 0x6676e50>"
       ]
      },
      {
       "metadata": {},
       "output_type": "display_data",
       "png": "[encoded data removed]",
       "text": [
        "<matplotlib.figure.Figure at 0x61d65d0>"
       ]
      }
     ],
     "prompt_number": 35
    },
    {
     "cell_type": "code",
     "collapsed": false,
     "input": [],
     "language": "python",
     "metadata": {},
     "outputs": []
    }
   ],
   "metadata": {}
  }
 ]
}