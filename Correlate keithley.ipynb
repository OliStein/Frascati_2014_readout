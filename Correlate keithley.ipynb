{
 "metadata": {
  "name": "",
  "signature": "sha256:689e0305eff07d8a865b4e7f9a5ebef18c83d81ee93ddfbf81c1f2ae8ae19aa3"
 },
 "nbformat": 3,
 "nbformat_minor": 0,
 "worksheets": [
  {
   "cells": [
    {
     "cell_type": "code",
     "collapsed": false,
     "input": [
      "import numpy as np\n",
      "import matplotlib.pyplot as plt\n",
      "import pandas as pd\n",
      "import time as tm\n",
      "import scipy.signal as sig\n",
      "%matplotlib qt4\n",
      "\n",
      "def moving_average(a, n=3) :\n",
      "    kernel = np.ones(n)/float(n)\n",
      "    out = sig.fftconvolve(a,kernel,mode = 'same')\n",
      "    out[:n] = out[n+1]\n",
      "    out[-n:] = out[-n-2]\n",
      "    return out\n",
      "\n",
      "def binarysearch(A, value, imax):\n",
      "    imin = 0\n",
      "    while imax >= imin:\n",
      "        imid = int((imax+imin)/2)\n",
      "        if A[imid] > value:\n",
      "            imax = imid - 1\n",
      "        elif A[imid] < value:\n",
      "            imin = imid + 1\n",
      "        else:\n",
      "            break\n",
      "    return imid\n",
      "\n",
      "def cleverdiff(value, time):\n",
      "    return np.append(np.diff(value) / np.diff(time), -0.5e-8) #introduces a non-important value, in the end,\n",
      "                # to make sure the length matches up. "
     ],
     "language": "python",
     "metadata": {},
     "outputs": [],
     "prompt_number": 8
    },
    {
     "cell_type": "heading",
     "level": 1,
     "metadata": {},
     "source": [
      "Read Scope data"
     ]
    },
    {
     "cell_type": "code",
     "collapsed": false,
     "input": [
      "#Read the csv file into a pd array\n",
      "#SCfilename = '/home/csoerens/Desktop/python/Frascati_Data_Analysis/1hr/ana_file.csv'\n",
      "SCfilename = 'D:\\\\Frascati\\\\data\\\\ana_file.csv'\n",
      "ana = pd.read_csv(SCfilename)\n",
      "#Select only the nonzero data entries:\n",
      "#ana = ana[ana.icBLM > 0]"
     ],
     "language": "python",
     "metadata": {},
     "outputs": [],
     "prompt_number": 9
    },
    {
     "cell_type": "heading",
     "level": 1,
     "metadata": {},
     "source": [
      "Read Keithley data start here"
     ]
    },
    {
     "cell_type": "code",
     "collapsed": false,
     "input": [
      "t0 = tm.mktime(tm.strptime('1970:21:08:00', '%Y:%H:%M:%S'))\n",
      "#Read the pd arrays from the keithley.\n",
      "filename = 'D:\\\\Frascati\\\\data\\\\electrometer\\\\Measurement_icBLM1417098544'\n",
      "kt = pd.read_pickle(filename)\n",
      "kt.t = kt.t + 3600 #Account for some weird hour somewhere.\n",
      "#If it's an old exemplary dataset, it needs to be added with the present time timestamp.\n",
      "if kt.t[10] < 1:\n",
      "    print 'Uh, that\\'s an old dataset. We\\'d better fix that.'\n",
      "    present_time = tm.time()\n",
      "    for i in range(len(kt.t)):\n",
      "        kt.t[i] = kt.t[i]+present_time\n",
      "    print 'There there. All better.'\n",
      "    \n",
      "    \n",
      "#Read the csv file into a pd array\n",
      "#SCfilename = '/home/csoerens/Desktop/python/Frascati_Data_Analysis/1hr/ana_file.csv'\n",
      "SCfilename = 'D:\\\\Frascati\\\\data\\\\ana_file.csv'\n",
      "ana = pd.read_csv(SCfilename)\n",
      "#Select only the nonzero data entries:\n",
      "#ana = ana[ana.icBLM > 0]"
     ],
     "language": "python",
     "metadata": {},
     "outputs": [],
     "prompt_number": 24
    },
    {
     "cell_type": "heading",
     "level": 1,
     "metadata": {},
     "source": [
      "Parse Keithley data and extract timestamps"
     ]
    },
    {
     "cell_type": "code",
     "collapsed": false,
     "input": [
      "#Parsing the keithley data:\n",
      "#Setting the limit for a change. Likely to be somewhat higher in reality\n",
      "peaks = None\n",
      "dQdTlim = np.amax(cleverdiff(kt.Q, kt.t))/200\n",
      "peaks = kt[cleverdiff(kt.Q, kt.t) > dQdTlim].values\n",
      "#[0 < cleverdiff(kt.Q, kt.t)]\n",
      "#Filters the found peaks, to only give the first element per step.\n",
      "tprev = 0.0 #start value\n",
      "peakTimes = []\n",
      "for i in range(len(peaks)):\n",
      "    if peaks[i,1]-tprev > 0.01:\n",
      "        peakTimes.append(peaks[i,1])\n",
      "        tprev = peaks[i,1]\n",
      "#searches the indices for each of the steps.\n",
      "time = kt.t.values\n",
      "#charge = kt.Q.values\n",
      "\n",
      "\n",
      "#Find the indices of the peaks\n",
      "peakIndices = []\n",
      "for i in peakTimes:\n",
      "    peakIndices.append(binarysearch(time, i, len(time)))\n",
      "\n",
      "#Take the mean of the next 200pts of the dataset, from the indices.\n",
      "#Oh yearh, and add five, to skip the jump.\n",
      "chargeSteps = []\n",
      "for i in peakIndices:\n",
      "    #Gives strange results if the median is used - due to lack of resolution\n",
      "    # in test measurement.\n",
      "    #The mean is the 20 measurements after, minus the ten before.\n",
      "    meanStep = np.mean(charge[i+2:i+22]) - np.mean(charge[i-11:i-1])\n",
      "    chargeSteps.append(meanStep)\n",
      "\n",
      "#Take the difference, to get a list of charge depositions.\n",
      "chargeOut = []\n",
      "peakOut = []\n",
      "for i in range(len(chargeSteps)):\n",
      "    if chargeSteps[i] > 0.0:\n",
      "        peakOut.append(peakTimes[i])\n",
      "        chargeOut.append(chargeSteps[i])\n",
      "output = [chargeOut, peakOut]"
     ],
     "language": "python",
     "metadata": {},
     "outputs": [],
     "prompt_number": 33
    },
    {
     "cell_type": "code",
     "collapsed": false,
     "input": [
      "for i in range(len(charge)):\n",
      "    if charge[i] > 1:\n",
      "        charge[i] = 1e-11\n",
      "plt.plot(time, charge,'o')\n"
     ],
     "language": "python",
     "metadata": {},
     "outputs": [
      {
       "metadata": {},
       "output_type": "pyout",
       "prompt_number": 32,
       "text": [
        "[<matplotlib.lines.Line2D at 0x15162470>]"
       ]
      }
     ],
     "prompt_number": 32
    },
    {
     "cell_type": "code",
     "collapsed": false,
     "input": [
      "plt.semilogy(peakOut, np.array(chargeOut)/5e-16, 'x')"
     ],
     "language": "python",
     "metadata": {},
     "outputs": [
      {
       "metadata": {},
       "output_type": "pyout",
       "prompt_number": 37,
       "text": [
        "[<matplotlib.lines.Line2D at 0x14a1b6f0>]"
       ]
      }
     ],
     "prompt_number": 37
    },
    {
     "cell_type": "heading",
     "level": 1,
     "metadata": {},
     "source": [
      "Correlate them bitches!"
     ]
    },
    {
     "cell_type": "code",
     "collapsed": false,
     "input": [
      "###Find the first entry, that matches the time:\n",
      "\n",
      "for i in range(len(ana['UTCtime'])):\n",
      "    #Find the index of the nearest timestamp\n",
      "    dt = 1\n",
      "    ktIndex = -1\n",
      "    for j in range(len(output[1])):\n",
      "        tdiff = (output[1][j] - ana['UTCtime'][i])\n",
      "        if abs(tdiff) < dt and tdiff > 0:\n",
      "            dt = tdiff\n",
      "            ktIndex = j+2\n",
      "\n",
      "    \n",
      "    if ktIndex == -1: #set NaN value in file\n",
      "        pass\n",
      "        #ana['keithley data'][i] = None\n",
      "        #ana['keithley timestamp'][i] = None\n",
      "    else:\n",
      "        try:\n",
      "            ana['keithley data'][i] = output[0][ktIndex]\n",
      "            ana['keithley timestamp'][i] = dt\n",
      "        except IndexError:\n",
      "            pass"
     ],
     "language": "python",
     "metadata": {},
     "outputs": [],
     "prompt_number": 71
    },
    {
     "cell_type": "code",
     "collapsed": false,
     "input": [
      "ana.to_csv(SCfilename, index = False)"
     ],
     "language": "python",
     "metadata": {},
     "outputs": [],
     "prompt_number": 72
    },
    {
     "cell_type": "heading",
     "level": 1,
     "metadata": {},
     "source": [
      "Stop here"
     ]
    },
    {
     "cell_type": "code",
     "collapsed": false,
     "input": [
      "plt.plot(kt.t, kt.Q)"
     ],
     "language": "python",
     "metadata": {},
     "outputs": [
      {
       "metadata": {},
       "output_type": "pyout",
       "prompt_number": 183,
       "text": [
        "[<matplotlib.lines.Line2D at 0x11164dd0>]"
       ]
      }
     ],
     "prompt_number": 183
    },
    {
     "cell_type": "code",
     "collapsed": false,
     "input": [],
     "language": "python",
     "metadata": {},
     "outputs": [],
     "prompt_number": 180
    },
    {
     "cell_type": "code",
     "collapsed": false,
     "input": [
      "50%10"
     ],
     "language": "python",
     "metadata": {},
     "outputs": [
      {
       "metadata": {},
       "output_type": "pyout",
       "prompt_number": 6,
       "text": [
        "0"
       ]
      }
     ],
     "prompt_number": 6
    },
    {
     "cell_type": "code",
     "collapsed": false,
     "input": [],
     "language": "python",
     "metadata": {},
     "outputs": []
    }
   ],
   "metadata": {}
  }
 ]
}