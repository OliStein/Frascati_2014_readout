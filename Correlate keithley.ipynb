{
 "metadata": {
  "name": "",
  "signature": "sha256:bfbf46962d88f9679dcaecb21a0f57e55367639245886e03711ed986fecce832"
 },
 "nbformat": 3,
 "nbformat_minor": 0,
 "worksheets": [
  {
   "cells": [
    {
     "cell_type": "code",
     "collapsed": false,
     "input": [
      "import numpy as np\n",
      "import matplotlib.pyplot as plt\n",
      "import pandas as pd\n",
      "import time as tm\n",
      "import scipy.signal as sig\n",
      "%matplotlib qt4\n",
      "\n",
      "def moving_average(a, n=3) :\n",
      "    kernel = np.ones(n)/float(n)\n",
      "    out = sig.fftconvolve(a,kernel,mode = 'same')\n",
      "    out[:n] = out[n+1]\n",
      "    out[-n:] = out[-n-2]\n",
      "    return out\n",
      "\n",
      "def binarysearch(A, value, imax):\n",
      "    imin = 0\n",
      "    while imax >= imin:\n",
      "        imid = int((imax+imin)/2)\n",
      "        if A[imid] > value:\n",
      "            imax = imid - 1\n",
      "        elif A[imid] < value:\n",
      "            imin = imid + 1\n",
      "        else:\n",
      "            break\n",
      "    return imid\n",
      "\n",
      "def cleverdiff(value, time):\n",
      "    return np.append(np.diff(value) / np.diff(time), -0.5e-8) #introduces a non-important value, in the end,\n",
      "                # to make sure the length matches up. "
     ],
     "language": "python",
     "metadata": {},
     "outputs": [],
     "prompt_number": 1
    },
    {
     "cell_type": "heading",
     "level": 1,
     "metadata": {},
     "source": [
      "Read Scope data"
     ]
    },
    {
     "cell_type": "code",
     "collapsed": false,
     "input": [
      "#Read the csv file into a pd array\n",
      "#SCfilename = '/home/csoerens/Desktop/python/Frascati_Data_Analysis/1hr/ana_file.csv'\n",
      "SCfilename = 'C:\\\\frascati_data\\\\ana_file.csv'\n",
      "ana = pd.read_csv(SCfilename)\n",
      "#Select only the nonzero data entries:\n",
      "ana = ana[ana.icBLM > 0]"
     ],
     "language": "python",
     "metadata": {},
     "outputs": [],
     "prompt_number": 2
    },
    {
     "cell_type": "heading",
     "level": 1,
     "metadata": {},
     "source": [
      "Read Keithley data"
     ]
    },
    {
     "cell_type": "code",
     "collapsed": false,
     "input": [
      "t0 = tm.mktime(tm.strptime('1970:21:08:00', '%Y:%H:%M:%S'))\n",
      "#Read the pd arrays from the keithley.\n",
      "filename = 'C:\\\\frascati_data\\\\keithley\\\\Measurement_icBLM1414747887'\n",
      "kt = pd.read_pickle(filename)\n",
      "kt.t = kt.t + 3600 #Account for some weird hour somewhere.\n",
      "#If it's an old exemplary dataset, it needs to be added with the present time timestamp.\n",
      "if kt.t[10] < 1:\n",
      "    print 'Uh, that\\'s an old dataset. We\\'d better fix that.'\n",
      "    present_time = tm.time()\n",
      "    for i in range(len(kt.t)):\n",
      "        kt.t[i] = kt.t[i]+present_time\n",
      "    print 'There there. All better.'"
     ],
     "language": "python",
     "metadata": {},
     "outputs": [],
     "prompt_number": 3
    },
    {
     "cell_type": "heading",
     "level": 1,
     "metadata": {},
     "source": [
      "Parse Keithley data and extract timestamps"
     ]
    },
    {
     "cell_type": "code",
     "collapsed": false,
     "input": [
      "#Parsing the keithley data:\n",
      "#Setting the limit for a change. Likely to be somewhat higher in reality\n",
      "dQdTlim = np.amax(cleverdiff(kt.Q, kt.t))/4\n",
      "peaks = kt[cleverdiff(kt.Q, kt.t) > dQdTlim].values\n",
      "\n",
      "#Filters the found peaks, to only give the first element per step.\n",
      "tprev = 0.0 #start value\n",
      "peakTimes = []\n",
      "for i in range(len(peaks)):\n",
      "    if peaks[i,1]-tprev > 0.01:\n",
      "        peakTimes.append(peaks[i,1])\n",
      "        tprev = peaks[i,1]\n",
      "#searches the indices for each of the steps.\n",
      "time = kt.t.values\n",
      "charge = kt.Q.values\n",
      "\n",
      "\n",
      "#Find the indices of the peaks\n",
      "peakIndices = []\n",
      "for i in peakTimes:\n",
      "    peakIndices.append(binarysearch(time, i, len(time)))\n",
      "\n",
      "#Take the mean of the next 200pts of the dataset, from the indices.\n",
      "#Oh yearh, and add five, to skip the jump.\n",
      "chargeSteps = []\n",
      "for i in peakIndices:\n",
      "    #Gives strange results if the median is used - due to lack of resolution\n",
      "    # in test measurement.\n",
      "    #The mean is the 20 measurements after, minus the ten before.\n",
      "    mean = np.mean(charge[i+2:i+22]) - np.mean(charge[i-11:i-1])\n",
      "    chargeSteps.append(mean)\n",
      "\n",
      "#Take the difference, to get a list of charge depositions.\n",
      "output = [chargeSteps, peakTimes[1:]]"
     ],
     "language": "python",
     "metadata": {},
     "outputs": [],
     "prompt_number": 4
    },
    {
     "cell_type": "heading",
     "level": 1,
     "metadata": {},
     "source": [
      "Correlate them bitches!"
     ]
    },
    {
     "cell_type": "code",
     "collapsed": false,
     "input": [
      "for i in range(len(ana['UTCtime'])):\n",
      "    #Find the index of the nearest timestamp\n",
      "    dt = 1\n",
      "    ktIndex = -1\n",
      "    for j in range(len(output[1])):\n",
      "        tdiff = (output[1][j] - ana['UTCtime'][i])\n",
      "        if abs(tdiff) < dt:\n",
      "            dt = tdiff\n",
      "            ktIndex = j\n",
      "\n",
      "    \n",
      "    if ktIndex == -1: #set NaN value in file\n",
      "        ana['keithley data'][i] = None\n",
      "        ana['keithley timestamp'][i] = None\n",
      "    else:\n",
      "        ana['keithley data'][i] = output[0][ktIndex]\n",
      "        ana['keithley timestamp'][i] = dt"
     ],
     "language": "python",
     "metadata": {},
     "outputs": [],
     "prompt_number": 5
    },
    {
     "cell_type": "code",
     "collapsed": false,
     "input": [
      "ana.to_csv(SCfilename)"
     ],
     "language": "python",
     "metadata": {},
     "outputs": [],
     "prompt_number": 6
    },
    {
     "cell_type": "code",
     "collapsed": false,
     "input": [
      "len(output[1])"
     ],
     "language": "python",
     "metadata": {},
     "outputs": [
      {
       "metadata": {},
       "output_type": "pyout",
       "prompt_number": 7,
       "text": [
        "2100"
       ]
      }
     ],
     "prompt_number": 7
    },
    {
     "cell_type": "code",
     "collapsed": false,
     "input": [
      "plt.plot(output[0])"
     ],
     "language": "python",
     "metadata": {},
     "outputs": [
      {
       "metadata": {},
       "output_type": "pyout",
       "prompt_number": 15,
       "text": [
        "[<matplotlib.lines.Line2D at 0x562d810>]"
       ]
      }
     ],
     "prompt_number": 15
    },
    {
     "cell_type": "code",
     "collapsed": false,
     "input": [
      "list(ana)"
     ],
     "language": "python",
     "metadata": {},
     "outputs": [
      {
       "metadata": {},
       "output_type": "pyout",
       "prompt_number": 6,
       "text": [
        "['id',\n",
        " 'meas. type',\n",
        " 'run',\n",
        " 'date',\n",
        " 'detector',\n",
        " 'type',\n",
        " 'xpos',\n",
        " 'ypos',\n",
        " 'ref.',\n",
        " 'ref. DAQ',\n",
        " 'att. ref.',\n",
        " 'volt. ref.',\n",
        " 'diamond',\n",
        " 'att. diamond',\n",
        " 'shunt',\n",
        " 'volt. dBLM',\n",
        " 'scpr11',\n",
        " 'scpr12',\n",
        " 'scpr21',\n",
        " 'scpr22',\n",
        " 'udc',\n",
        " 'meas. nr.',\n",
        " 'time',\n",
        " 'UTCtime',\n",
        " 'WC',\n",
        " 'WC sig.',\n",
        " 'WC offset',\n",
        " 'WC noise',\n",
        " 'WC smoothed',\n",
        " 'WC max. sig.',\n",
        " 'WC SNR',\n",
        " 'WC FWHM',\n",
        " 'WC int.',\n",
        " 'WC charge sig.',\n",
        " 'WC ppb',\n",
        " 'icBLM',\n",
        " 'icBLM sig.',\n",
        " 'icBLM offset',\n",
        " 'icBLM noise',\n",
        " 'icBLM smoothed',\n",
        " 'icBLM max. sig.',\n",
        " 'icBLM SNR',\n",
        " 'icBLM max sig. att. corr.',\n",
        " 'icBLM FWHM',\n",
        " 'icBLM int.',\n",
        " 'icBLM int. att. corr.',\n",
        " 'icBLM charge sig.',\n",
        " 'icBLM ppb',\n",
        " 'keithley data',\n",
        " 'keithley timestamp',\n",
        " 'dBLM',\n",
        " 'dBLM sig.',\n",
        " 'dBLM offset',\n",
        " 'dBLM noise',\n",
        " 'dBLM smoothed',\n",
        " 'dBLM max. sig.',\n",
        " 'dBLM SNR',\n",
        " 'dBLM max sig. att. corr.',\n",
        " 'dBLM FWHM',\n",
        " 'dBLM int.',\n",
        " 'dBLM int. att. corr.',\n",
        " 'dBLM charge sig.',\n",
        " 'analyzed',\n",
        " 'file']"
       ]
      }
     ],
     "prompt_number": 6
    },
    {
     "cell_type": "code",
     "collapsed": false,
     "input": [
      "plt.plot(ana['keithley data'], ana['dBLM charge sig.'], 'o')"
     ],
     "language": "python",
     "metadata": {},
     "outputs": [
      {
       "metadata": {},
       "output_type": "pyout",
       "prompt_number": 8,
       "text": [
        "[<matplotlib.lines.Line2D at 0x9440fd0>]"
       ]
      }
     ],
     "prompt_number": 8
    },
    {
     "cell_type": "code",
     "collapsed": false,
     "input": [],
     "language": "python",
     "metadata": {},
     "outputs": []
    }
   ],
   "metadata": {}
  }
 ]
}