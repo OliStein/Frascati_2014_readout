{
 "metadata": {
  "name": "",
  "signature": "sha256:46e5a11ceeb4497e6704fa274949fb9c11b9f2774af037df3dd84b192087f9c9"
 },
 "nbformat": 3,
 "nbformat_minor": 0,
 "worksheets": [
  {
   "cells": [
    {
     "cell_type": "code",
     "collapsed": false,
     "input": [
      "import numpy as np\n",
      "import matplotlib.pyplot as plt\n",
      "import pandas as pd\n",
      "import time as tm\n",
      "import datetime as dt\n",
      "import scipy.signal as sig\n",
      "import bisect as bs\n",
      "%matplotlib qt4\n",
      "\n",
      "def moving_average(a, n=3) :\n",
      "    kernel = np.ones(n)/float(n)\n",
      "    out = sig.fftconvolve(a,kernel,mode = 'same')\n",
      "    out[:n] = out[n+1]\n",
      "    out[-n:] = out[-n-2]\n",
      "    return out\n",
      "\n",
      "def binarysearch(A, value, imax):\n",
      "    imin = 0\n",
      "    while imax >= imin:\n",
      "        imid = int((imax+imin)/2)\n",
      "        if A[imid] > value:\n",
      "            imax = imid - 1\n",
      "        elif A[imid] < value:\n",
      "            imin = imid + 1\n",
      "        else:\n",
      "            break\n",
      "    return imid\n",
      "\n",
      "\n",
      "def cleverdiff(value, time):\n",
      "    return np.append(np.diff(value) / np.diff(time), -0.5e-8) #introduces a non-important value, in the end,\n",
      "                # to make sure the length matches up. \n"
     ],
     "language": "python",
     "metadata": {},
     "outputs": [],
     "prompt_number": 1
    },
    {
     "cell_type": "code",
     "collapsed": false,
     "input": [
      "t0 = tm.time()\n",
      "#Read the pd arrays from the keithley.\n",
      "filename = '/home/csoerens/Desktop/python/Frascati_Data_Analysis/1hr/Measurement_icBLM1414747887'\n",
      "filename = 'C:\\\\Users\\\\labor\\\\dBLM_dark_current\\\\Measurement_icBLM1415176197'\n",
      "gd = pd.read_pickle(filename)"
     ],
     "language": "python",
     "metadata": {},
     "outputs": [],
     "prompt_number": 2
    },
    {
     "cell_type": "code",
     "collapsed": false,
     "input": [
      "plt.plot(gd['t'], gd.Q)"
     ],
     "language": "python",
     "metadata": {},
     "outputs": [
      {
       "metadata": {},
       "output_type": "pyout",
       "prompt_number": 9,
       "text": [
        "[<matplotlib.lines.Line2D at 0x14a4e490>]"
       ]
      }
     ],
     "prompt_number": 9
    },
    {
     "cell_type": "code",
     "collapsed": false,
     "input": [
      "#The cleverdiff is really snazzy!\n",
      "plt.plot(gd.t, cleverdiff(gd.Q, gd.t))"
     ],
     "language": "python",
     "metadata": {},
     "outputs": [
      {
       "metadata": {},
       "output_type": "pyout",
       "prompt_number": 8,
       "text": [
        "[<matplotlib.lines.Line2D at 0x14a358d0>]"
       ]
      }
     ],
     "prompt_number": 8
    },
    {
     "cell_type": "code",
     "collapsed": false,
     "input": [
      "#Setting the limit for a change. Likely to be somewhat higher in reality\n",
      "dQdTlim = np.amax(cleverdiff(gd.Q, gd.t))/4\n",
      "peaks = gd[cleverdiff(gd.Q, gd.t) > dQdTlim].values\n",
      "\n",
      "#Filters the found peaks, to only give the first element per step.\n",
      "tprev = 0.0 #start value\n",
      "peakTimes = []\n",
      "for i in range(len(peaks)):\n",
      "    if peaks[i,1]-tprev > 0.01:\n",
      "        peakTimes.append(peaks[i,1])\n",
      "        tprev = peaks[i,1]"
     ],
     "language": "python",
     "metadata": {},
     "outputs": [],
     "prompt_number": 27
    },
    {
     "cell_type": "code",
     "collapsed": false,
     "input": [
      "#searches the indices for each of the steps.\n",
      "time = gd.t.values\n",
      "charge = gd.Q.values\n",
      "#Find the indices of the peaks\n",
      "peakIndices = []\n",
      "for i in peakTimes:\n",
      "    peakIndices.append(binarysearch(time, i, len(time)))\n",
      "\n",
      "#Take the mean of the next 200pts of the dataset, from the indices.\n",
      "#Oh yearh, and add five, to skip the jump.\n",
      "chargeSteps = []\n",
      "for i in peakIndices:\n",
      "    #Gives strange results if the median is used - due to lack of resolution\n",
      "    # in test measurement.\n",
      "    #The mean is the 20 measurements after, minus the ten before.\n",
      "    mean = np.mean(charge[i+2:i+22]) - np.mean(charge[i-11:i-1])\n",
      "    chargeSteps.append(mean)\n",
      "\n",
      "#Take the difference, to get a list of charge depositions.\n",
      "output = [chargeSteps, pea\n",
      "          ]"
     ],
     "language": "python",
     "metadata": {},
     "outputs": [],
     "prompt_number": 28
    },
    {
     "cell_type": "code",
     "collapsed": false,
     "input": [
      "plt.plot(time, charge)\n",
      "plt.hold(True)\n",
      "Qsum = np.mean(charge[peakIndices[0]:peakIndices[0]+100])\n",
      "for i in chargeSteps:\n",
      "    plt.axhline(Qsum, color = 'g')\n",
      "    Qsum = Qsum + i\n",
      "\n",
      "for i in peakTimes:\n",
      "    plt.axvline(i, color = 'r')\n",
      "plt.hold(False)"
     ],
     "language": "python",
     "metadata": {},
     "outputs": [
      {
       "ename": "IndexError",
       "evalue": "list index out of range",
       "output_type": "pyerr",
       "traceback": [
        "\u001b[1;31m---------------------------------------------------------------------------\u001b[0m\n\u001b[1;31mIndexError\u001b[0m                                Traceback (most recent call last)",
        "\u001b[1;32m<ipython-input-8-dac74c6e10a1>\u001b[0m in \u001b[0;36m<module>\u001b[1;34m()\u001b[0m\n\u001b[0;32m      1\u001b[0m \u001b[0mplt\u001b[0m\u001b[1;33m.\u001b[0m\u001b[0mplot\u001b[0m\u001b[1;33m(\u001b[0m\u001b[0mtime\u001b[0m\u001b[1;33m,\u001b[0m \u001b[0mcharge\u001b[0m\u001b[1;33m)\u001b[0m\u001b[1;33m\u001b[0m\u001b[0m\n\u001b[0;32m      2\u001b[0m \u001b[0mplt\u001b[0m\u001b[1;33m.\u001b[0m\u001b[0mhold\u001b[0m\u001b[1;33m(\u001b[0m\u001b[0mTrue\u001b[0m\u001b[1;33m)\u001b[0m\u001b[1;33m\u001b[0m\u001b[0m\n\u001b[1;32m----> 3\u001b[1;33m \u001b[0mQsum\u001b[0m \u001b[1;33m=\u001b[0m \u001b[0mnp\u001b[0m\u001b[1;33m.\u001b[0m\u001b[0mmean\u001b[0m\u001b[1;33m(\u001b[0m\u001b[0mcharge\u001b[0m\u001b[1;33m[\u001b[0m\u001b[0mpeakIndices\u001b[0m\u001b[1;33m[\u001b[0m\u001b[1;36m0\u001b[0m\u001b[1;33m]\u001b[0m\u001b[1;33m:\u001b[0m\u001b[0mpeakIndices\u001b[0m\u001b[1;33m[\u001b[0m\u001b[1;36m0\u001b[0m\u001b[1;33m]\u001b[0m\u001b[1;33m+\u001b[0m\u001b[1;36m100\u001b[0m\u001b[1;33m]\u001b[0m\u001b[1;33m)\u001b[0m\u001b[1;33m\u001b[0m\u001b[0m\n\u001b[0m\u001b[0;32m      4\u001b[0m \u001b[1;32mfor\u001b[0m \u001b[0mi\u001b[0m \u001b[1;32min\u001b[0m \u001b[0mchargeSteps\u001b[0m\u001b[1;33m:\u001b[0m\u001b[1;33m\u001b[0m\u001b[0m\n\u001b[0;32m      5\u001b[0m     \u001b[0mplt\u001b[0m\u001b[1;33m.\u001b[0m\u001b[0maxhline\u001b[0m\u001b[1;33m(\u001b[0m\u001b[0mQsum\u001b[0m\u001b[1;33m,\u001b[0m \u001b[0mcolor\u001b[0m \u001b[1;33m=\u001b[0m \u001b[1;34m'g'\u001b[0m\u001b[1;33m)\u001b[0m\u001b[1;33m\u001b[0m\u001b[0m\n",
        "\u001b[1;31mIndexError\u001b[0m: list index out of range"
       ]
      }
     ],
     "prompt_number": 8
    },
    {
     "cell_type": "code",
     "collapsed": true,
     "input": [
      "len(output[1])"
     ],
     "language": "python",
     "metadata": {},
     "outputs": [
      {
       "metadata": {},
       "output_type": "pyout",
       "prompt_number": 31,
       "text": [
        "2100"
       ]
      }
     ],
     "prompt_number": 31
    },
    {
     "cell_type": "code",
     "collapsed": false,
     "input": [],
     "language": "python",
     "metadata": {},
     "outputs": []
    }
   ],
   "metadata": {}
  }
 ]
}