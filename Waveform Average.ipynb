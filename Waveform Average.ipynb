{
 "metadata": {
  "name": "",
  "signature": "sha256:32bc8c5aeff65cefa04f2a9f2bc604b4f20fb2bb4e84d18903f0a3933f77aec8"
 },
 "nbformat": 3,
 "nbformat_minor": 0,
 "worksheets": [
  {
   "cells": [
    {
     "cell_type": "markdown",
     "metadata": {},
     "source": [
      "The steps of the matter.\n",
      "\n",
      " - Import data\n",
      " - Moving average filter\n",
      " - Normalise vectors\n",
      " - Plot on top of each other\n",
      " - Make into a 3D/2D colorplot\n",
      " - Check if it makes sense. It might just not."
     ]
    },
    {
     "cell_type": "code",
     "collapsed": false,
     "input": [
      "import numpy as np\n",
      "import scipy.signal as sig\n",
      "import matplotlib.pyplot as plt\n",
      "%matplotlib qt4\n",
      "import os as os\n",
      "\n",
      "def ReadFile(fname, cnum):\n",
      "    fin = open(fname, 'r')\n",
      "    tVec = []\n",
      "    oVec = []\n",
      "    fSave = False #Flag to start the saving at appropriate times\n",
      "    for line in fin.readlines():\n",
      "        if fSave == True: #Where the magic occurs\n",
      "            tVec.append(float(line.split(',')[0]))\n",
      "            oVec.append(-float(line.split(',')[cnum]))\n",
      "                        \n",
      "        if line[0:9] == 'Time Tags':  #Setting the flag when time is.\n",
      "            fSave = True\n",
      "    return tVec, oVec\n",
      "\n",
      "def moving_average(a, n=3, end=2000):\n",
      "        kernel = np.ones(n)/float(n)\n",
      "        out = sig.fftconvolve(a,kernel,mode = 'same')\n",
      "        med = np.median(a[-end:])\n",
      "        #To ensure less discontinuity at the ends, the median value is repeated:\n",
      "        out[:n] = med\n",
      "        out[-n:] = med\n",
      "        return out"
     ],
     "language": "python",
     "metadata": {},
     "outputs": [],
     "prompt_number": 1
    },
    {
     "cell_type": "code",
     "collapsed": false,
     "input": [
      "###### IMPORT DATA ######\n",
      "#With shunt and 20dB att\n",
      "wdir = 'C:\\\\fd\\\\raw_data\\\\049_vs_01_27112014_H3_100_042690_021510_1_scope_40_1500_1_20_1_100_0000_0000_0000_0000_0000_0000_0000_0000'\n",
      "\n",
      "#with shunt and 40dB att\n",
      "wdir = 'C:\\\\fd\\\\raw_data\\\\051_vs_01_27112014_H3_100_042690_021510_1_scope_20_1500_1_40_1_100_0000_0000_0000_0000_0000_0000_0000_0000'\n",
      "\n",
      "#with shunt\n",
      "wdir = 'C:\\\\fd\\\\raw_data\\\\076_vs_01_28112014_H1_100_042590_021610_1_scope_00_1500_1_00_1_100_0000_0000_0000_0000_0000_0000_0000_0000'\n",
      "\n",
      "#with 20dB att\n",
      "#wdir = 'C:\\\\fd\\\\raw_data\\\\056_vs_01_27112014_H3_100_042690_021510_1_scope_00_1500_1_20_0_100_0000_0000_0000_0000_0000_0000_0000_0000'\n",
      "\n",
      "#clean\n",
      "#wdir = 'C:\\\\fd\\\\raw_data\\\\055_vs_01_27112014_H3_100_042690_021510_1_scope_00_1500_1_00_0_100_0000_0000_0000_0000_0000_0000_0000_0000'\n",
      "\n",
      "nfiles = 100\n",
      "\n",
      "ltime = []\n",
      "lvolt = []\n",
      "filelist = os.listdir(wdir)\n",
      "for i in range(nfiles):\n",
      "    time, voltage = ReadFile(wdir+'\\\\'+filelist[i],1)\n",
      "    voltage = np.array(voltage)*-1.0\n",
      "    voltage[voltage < -0.06] = 0\n",
      "    # Offset correction:\n",
      "    offset = np.mean(voltage[1000:2000])\n",
      "    voltage = voltage - offset\n",
      "    # Moving average:\n",
      "    voltage = moving_average(voltage, 200, 1000)\n",
      "    # Normalisation:\n",
      "    sigmax = np.max(voltage)\n",
      "    voltage = voltage / sigmax\n",
      "    # Displacement:\n",
      "    #ind = np.argmax(voltage > 0.2)\n",
      "    #voltage = voltage[ind-6500:ind+11000]\n",
      "    \n",
      "    #voltage = voltage * sigmax\n",
      "    # Append:\n",
      "    lvolt.append(voltage)\n",
      "    #time = time[ind-6500:ind+11000]\n",
      "    ltime.append(time)"
     ],
     "language": "python",
     "metadata": {},
     "outputs": [],
     "prompt_number": 251
    },
    {
     "cell_type": "code",
     "collapsed": false,
     "input": [
      "plt.figure()\n",
      "for i in range(len(ltime)):\n",
      "    plt.plot(ltime[i], lvolt[i])"
     ],
     "language": "python",
     "metadata": {},
     "outputs": [],
     "prompt_number": 254
    },
    {
     "cell_type": "code",
     "collapsed": false,
     "input": [
      "plt.plot(lvolt[1])"
     ],
     "language": "python",
     "metadata": {},
     "outputs": [
      {
       "metadata": {},
       "output_type": "pyout",
       "prompt_number": 247,
       "text": [
        "[<matplotlib.lines.Line2D at 0x5b5da7f0>]"
       ]
      }
     ],
     "prompt_number": 247
    },
    {
     "cell_type": "code",
     "collapsed": false,
     "input": [
      "plt.figure()\n",
      "plt.hexbin(np.hstack(ltime)/1e-9, np.hstack(lvolt),gridsize = 200,vmax = 6000)\n",
      "plt.xlabel('Time (ns) \\n No shunt, 20dB attenuator')\n",
      "plt.ylabel('Normalised amplitude (V / Vmax)')\n",
      "plt.title('Histogram of normalised waveforms')\n",
      "plt.grid(c = 'w')"
     ],
     "language": "python",
     "metadata": {},
     "outputs": [],
     "prompt_number": 255
    },
    {
     "cell_type": "code",
     "collapsed": false,
     "input": [
      "np.mean(bins), np.max(bins)"
     ],
     "language": "python",
     "metadata": {},
     "outputs": [
      {
       "metadata": {},
       "output_type": "pyout",
       "prompt_number": 166,
       "text": [
        "(45.340702996804559, 2779.0)"
       ]
      }
     ],
     "prompt_number": 166
    },
    {
     "cell_type": "heading",
     "level": 3,
     "metadata": {},
     "source": [
      "Spin-off: FFT analysis of noise with shunt"
     ]
    },
    {
     "cell_type": "code",
     "collapsed": false,
     "input": [
      "wdir = 'C:\\\\fd\\\\raw_data\\\\049_vs_01_27112014_H3_100_042690_021510_1_scope_40_1500_1_20_1_100_0000_0000_0000_0000_0000_0000_0000_0000'\n",
      "nfiles = 100\n",
      "\n",
      "lfreq = []\n",
      "lfft = []\n",
      "filelist = os.listdir(wdir)\n",
      "for i in range(nfiles):\n",
      "    time, voltage = ReadFile(wdir+'\\\\'+filelist[i],1)\n",
      "    voltage = np.array(voltage)#[5000:]\n",
      "    Fs = 1/np.mean(np.diff(time[0:100]))\n",
      "    n = len(voltage)\n",
      "    k = np.arange(n)\n",
      "    T = n/Fs\n",
      "    frq = k/T\n",
      "    frq = frq[range(n/2)]\n",
      "    lfreq.append(frq)\n",
      "    \n",
      "    dFFT = np.fft.rfft(voltage)[:-1]/n\n",
      "    lfft.append(dFFT)"
     ],
     "language": "python",
     "metadata": {},
     "outputs": [],
     "prompt_number": 181
    },
    {
     "cell_type": "code",
     "collapsed": false,
     "input": [
      "avgfft = np.zeros(len(lfft[0]))\n",
      "for i in range(len(lfreq)):\n",
      "    avgfft = lfft[i] + avgfft\n",
      "plt.figure()\n",
      "plt.plot(lfreq[i]/1e9, 20* np.log10(avgfft/len(lfreq)), alpha = 0.4)\n",
      "plt.xlabel('Frequency (GHz)')\n",
      "plt.ylabel('Power (dB)')"
     ],
     "language": "python",
     "metadata": {},
     "outputs": [
      {
       "metadata": {},
       "output_type": "pyout",
       "prompt_number": 183,
       "text": [
        "<matplotlib.text.Text at 0x46121ac8>"
       ]
      }
     ],
     "prompt_number": 183
    },
    {
     "cell_type": "code",
     "collapsed": false,
     "input": [
      "1/ (47 *1e-9) /1e6"
     ],
     "language": "python",
     "metadata": {},
     "outputs": [
      {
       "metadata": {},
       "output_type": "pyout",
       "prompt_number": 185,
       "text": [
        "21.276595744680847"
       ]
      }
     ],
     "prompt_number": 185
    },
    {
     "cell_type": "code",
     "collapsed": false,
     "input": [
      "len(dFFT)"
     ],
     "language": "python",
     "metadata": {},
     "outputs": [
      {
       "metadata": {},
       "output_type": "pyout",
       "prompt_number": 80,
       "text": [
        "10012"
       ]
      }
     ],
     "prompt_number": 80
    },
    {
     "cell_type": "code",
     "collapsed": false,
     "input": [
      "1/9.17e-9"
     ],
     "language": "python",
     "metadata": {},
     "outputs": [
      {
       "metadata": {},
       "output_type": "pyout",
       "prompt_number": 127,
       "text": [
        "109051254.08942202"
       ]
      }
     ],
     "prompt_number": 127
    },
    {
     "cell_type": "code",
     "collapsed": false,
     "input": [],
     "language": "python",
     "metadata": {},
     "outputs": []
    }
   ],
   "metadata": {}
  }
 ]
}