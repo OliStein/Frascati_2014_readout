{
 "metadata": {
  "name": "",
  "signature": "sha256:6132e4cacd0976febf4845cf0236f39a18e1595afe63f81206207c3739ffd8e7"
 },
 "nbformat": 3,
 "nbformat_minor": 0,
 "worksheets": [
  {
   "cells": [
    {
     "cell_type": "code",
     "collapsed": false,
     "input": [
      "import numpy as np\n",
      "import matplotlib.pyplot as plt\n",
      "plt.rcParams['figure.figsize'] = 10, 5\n",
      "import pandas as pd\n",
      "import os\n",
      "from time import sleep\n",
      "%matplotlib qt4"
     ],
     "language": "python",
     "metadata": {},
     "outputs": [],
     "prompt_number": 1
    },
    {
     "cell_type": "code",
     "collapsed": false,
     "input": [
      "#Import the data into the dataframe.\n",
      "# filename = '/home/csoerens/Desktop/python/Frascati_Data_Analysis/data/ana_file.csv'\n",
      "#path = '/Users/Oli/work/Frascati/Frascati_2014_readout/data'\n",
      "#path = 'D:\\\\Frascati\\\\data'\n",
      "#f = 'ana_file.csv'\n",
      "path = 'D:\\\\Frascati\\\\ana_files'\n",
      "f = 'ana_file_28112014_2115_H2_analysis_scope_data.csv'\n",
      "filename = os.path.join(path,f)\n",
      "\n",
      "df = pd.read_csv(filename)"
     ],
     "language": "python",
     "metadata": {},
     "outputs": [],
     "prompt_number": 2
    },
    {
     "cell_type": "heading",
     "level": 3,
     "metadata": {},
     "source": [
      "Example: Indexing in the dataframe"
     ]
    },
    {
     "cell_type": "code",
     "collapsed": false,
     "input": [
      "#The possible entries we can choose from is:\n",
      "print list(df) #Or remove the leading print to get a long list."
     ],
     "language": "python",
     "metadata": {},
     "outputs": [
      {
       "output_type": "stream",
       "stream": "stdout",
       "text": [
        "['id', 'meas. type', 'run', 'date', 'detector', 'type', 'xpos', 'ypos', 'ref.', 'ref. DAQ', 'att. ref.', 'volt. ref.', 'diamond', 'att. diamond', 'shunt', 'volt. dBLM', 'scpr11', 'scpr12', 'scpr21', 'scpr22', 'scpr31', 'scpr32', 'scpr41', 'scpr42', 'meas. nr.', 'time', 'UTCtime', 'WC', 'WC sig.', 'WC offset', 'WC noise', 'WC smoothed', 'WC max. sig.', 'WC SNR', 'WC FWHM', 'WC int.', 'WC charge sig.', 'WC ppb', 'icBLM', 'icBLM sig.', 'icBLM offset', 'icBLM noise', 'icBLM smoothed', 'icBLM max. sig.', 'icBLM SNR', 'icBLM max sig. att. corr.', 'icBLM FWHM', 'icBLM int.', 'icBLM int. att. corr.', 'icBLM charge sig.', 'icBLM ppb', 'keithley data', 'keithley timestamp', 'dBLM', 'dBLM sig.', 'dBLM offset', 'dBLM noise', 'dBLM smoothed', 'dBLM max. sig.', 'dBLM SNR', 'dBLM max sig. att. corr.', 'dBLM FWHM', 'dBLM int.', 'dBLM int. att. corr.', 'dBLM charge sig.', 'analyzed', 'file']\n"
       ]
      }
     ],
     "prompt_number": 4
    },
    {
     "cell_type": "code",
     "collapsed": false,
     "input": [
      "#Boolean selection of data also works with strings:\n",
      "# If I want the voltage scans, identified by the tag 'meas. type', I can filter with 'vs':\n",
      "xdata_col_name = 'meas. nr.'\n",
      "ydata_col_name = 'dBLM int.'\n",
      "filter_list = [['id',73]]\n",
      "\n",
      "first_round=True\n",
      "filt=None\n",
      "\n",
      "for rule in filter_list:\n",
      "    new_rule = (df[rule[0]]==rule[1])\n",
      "    if first_round:\n",
      "        filt = new_rule\n",
      "        first_round=False\n",
      "    else:\n",
      "        filt = filt & new_rule\n",
      "\n",
      "        \n",
      "file_number = 1\n",
      "plt.clf()        \n",
      "\n",
      "interval = 40\n",
      "\n",
      "new_data = np.array(df[filt])\n",
      "print len(new_data)\n",
      "file_number = 1\n",
      "print 'Press enter to continue or s for stop'\n",
      "main_loop = file_number\n",
      "while (main_loop<=len(new_data)):\n",
      "    file_number_max =file_number + interval -1\n",
      "    while  (file_number <= file_number_max):#len(new_data):\n",
      "        #print file_number\n",
      "        filename = new_data[file_number,-1].replace('raw_data','raw_data')\n",
      "        #print filename\n",
      "        title = file_number\n",
      "        wave = np.array(pd.read_csv(filename))[22:-10]\n",
      "        channels = np.array(pd.read_csv(new_data[file_number,-1]))[20]\n",
      "        #print channels\n",
      "        set_channels = np.array([['icBLM','Channel 3'],['dBLM','Channel 4'],['WC','Channel 2']])\n",
      "\n",
      "        data1 = data2 = data3 = None\n",
      "        for i in channels[1:]:\n",
      "            if i == set_channels[0,1]:\n",
      "                title1 = set_channels[0,0]\n",
      "                col1 = np.where(channels == set_channels[0,1])[0][0]\n",
      "                data1 = wave[:,col1]\n",
      "            elif i == set_channels[1,1]:\n",
      "                title2 = set_channels[1,0]\n",
      "                col2 = np.where(channels == set_channels[1,1])[0][0] \n",
      "                data2 = wave[:,col2]\n",
      "            elif i == set_channels[2,1]:\n",
      "                title3 = set_channels[2,0]\n",
      "                col3 = np.where(channels == set_channels[2,1])[0][0]\n",
      "                data3 = wave[:,col3]\n",
      "            else:\n",
      "                pass\n",
      "\n",
      "        #print wave[:10]\n",
      "        #f, axarr = plt.subplots(3, sharex = True)\n",
      "        #interval = 100\n",
      "        x = wave[:,0]\n",
      "        if data1 != None: y1 = data1 \n",
      "        else:y1 = [0]*len(x)\n",
      "        if data2 != None: y2 = data2 \n",
      "        else:y2 = [0]*len(x)\n",
      "        if data3 != None: y3 = data3 \n",
      "        else:y3 = [0]*len(x)\n",
      "        #print x[:10]\n",
      "        #print y2[:10]\n",
      "        #plt.xlabel(xdata_col_name)\n",
      "        #plt.ylabel(ydata_col_name)\n",
      "\n",
      "\n",
      "        plt.title(title)\n",
      "        plt.xlim(-.00000001,0.0000008)\n",
      "        plt.ylim(-0.1,1)\n",
      "        #plt.ion\n",
      "        plt.plot(x, y2, 'r-')\n",
      "        plt.draw()\n",
      "        file_number = file_number+1\n",
      "        plt.clf()\n",
      "    \n",
      "    sleep(.5)\n",
      "    plt.clf()\n",
      "    main_loop = main_loop + interval\n",
      "    s=0\n",
      "    s = raw_input()\n",
      "    if s == 's':\n",
      "        print 'stopped'\n",
      "        break\n",
      "#axarr[0].plot(x,y1,'r-')\n",
      "#axarr[0].set_title(title1)\n",
      "#axarr[1].plot(x,y2,'b-')\n",
      "#axarr[1].set_title(title2)\n",
      "#axarr[2].plot(x,y3,'g-')\n",
      "#axarr[2].set_title(title3)\n",
      "#plt.figure(num=None, figsize=(8, 6), dpi=80, facecolor='w', edgecolor='k')\n",
      "#plt.show()\n",
      "\n"
     ],
     "language": "python",
     "metadata": {},
     "outputs": [
      {
       "output_type": "stream",
       "stream": "stdout",
       "text": [
        "1072\n",
        "Press enter to continue or s for stop\n"
       ]
      },
      {
       "name": "stdout",
       "output_type": "stream",
       "stream": "stdout",
       "text": [
        "s\n"
       ]
      },
      {
       "output_type": "stream",
       "stream": "stdout",
       "text": [
        "stopped\n"
       ]
      }
     ],
     "prompt_number": 13
    },
    {
     "cell_type": "code",
     "collapsed": false,
     "input": [
      "#Boolean selection of data also works with strings:\n",
      "# If I want the voltage scans, identified by the tag 'meas. type', I can filter with 'vs':\n",
      "xdata_col_name = 'meas. nr.'\n",
      "ydata_col_name = 'dBLM int.'\n",
      "filter_list = [['id',73]]\n",
      "\n",
      "first_round=True\n",
      "filt=None\n",
      "\n",
      "for rule in filter_list:\n",
      "    new_rule = (df[rule[0]]==rule[1])\n",
      "    if first_round:\n",
      "        filt = new_rule\n",
      "        first_round=False\n",
      "    else:\n",
      "        filt = filt & new_rule\n",
      "\n",
      "        \n",
      "file_number = 1\n",
      "plt.clf()        \n",
      "\n",
      "interval = 40\n",
      "\n",
      "new_data = np.array(df[filt])\n",
      "print len(new_data)\n",
      "file_number = 50\n",
      "\n",
      "#print file_number\n",
      "filename = new_data[file_number,-1].replace('raw_data','ana_data')\n",
      "#print filename\n",
      "title = file_number\n",
      "wave = np.array(pd.read_csv(filename))[22:-10]\n",
      "channels = np.array(pd.read_csv(new_data[file_number,-1]))[20]\n",
      "#print channels\n",
      "set_channels = np.array([['icBLM','Channel 3'],['dBLM','Channel 4'],['WC','Channel 2']])\n",
      "\n",
      "data1 = data2 = data3 = None\n",
      "for i in channels[1:]:\n",
      "    if i == set_channels[0,1]:\n",
      "        title1 = set_channels[0,0]\n",
      "        col1 = np.where(channels == set_channels[0,1])[0][0]\n",
      "        data1 = wave[:,col1]\n",
      "    elif i == set_channels[1,1]:\n",
      "        title2 = set_channels[1,0]\n",
      "        col2 = np.where(channels == set_channels[1,1])[0][0] \n",
      "        data2 = wave[:,col2]\n",
      "    elif i == set_channels[2,1]:\n",
      "        title3 = set_channels[2,0]\n",
      "        col3 = np.where(channels == set_channels[2,1])[0][0]\n",
      "        data3 = wave[:,col3]\n",
      "    else:\n",
      "        pass\n",
      "\n",
      "#print wave[:10]\n",
      "#f, axarr = plt.subplots(3, sharex = True)\n",
      "#interval = 100\n",
      "x = wave[:,0]\n",
      "if data1 != None: y1 = data1 \n",
      "else:y1 = [0]*len(x)\n",
      "if data2 != None: y2 = data2 \n",
      "else:y2 = [0]*len(x)\n",
      "if data3 != None: y3 = data3 \n",
      "else:y3 = [0]*len(x)\n",
      "#print x[:10]\n",
      "#print y2[:10]\n",
      "#plt.xlabel(xdata_col_name)\n",
      "#plt.ylabel(ydata_col_name)\n",
      "\n",
      "\n",
      "plt.title('Analysed and corr. dBLM signal over time, \\n H2 100mu with shunt, no attenuator \\n shot nr. '+str(title)+' of measurement series 73')# \\n '+filename)\n",
      "plt.xlabel('time (s)')\n",
      "plt.ylabel('dBLM signal (V)')\n",
      "plt.xlim(-.00000001,0.0000001)\n",
      "plt.ylim(-0.01,20)\n",
      "#plt.ion\n",
      "plt.plot(x, y2, 'r-')\n",
      "plt.draw()\n",
      "file_number = file_number+1\n",
      "#plt.clf()\n",
      "    \n",
      "    \n",
      "#axarr[0].plot(x,y1,'r-')\n",
      "#axarr[0].set_title(title1)\n",
      "#axarr[1].plot(x,y2,'b-')\n",
      "#axarr[1].set_title(title2)\n",
      "#axarr[2].plot(x,y3,'g-')\n",
      "#axarr[2].set_title(title3)\n",
      "#plt.figure(num=None, figsize=(8, 6), dpi=80, facecolor='w', edgecolor='k')\n",
      "#plt.show()\n",
      "\n"
     ],
     "language": "python",
     "metadata": {},
     "outputs": [
      {
       "output_type": "stream",
       "stream": "stdout",
       "text": [
        "1072\n"
       ]
      }
     ],
     "prompt_number": 47
    },
    {
     "cell_type": "code",
     "collapsed": false,
     "input": [
      "#Boolean selection of data also works with strings:\n",
      "# If I want the voltage scans, identified by the tag 'meas. type', I can filter with 'vs':\n",
      "xdata_col_name = 'icBLM ppb'\n",
      "ydata_col_name = 'dBLM charge sig.'\n",
      "filter_list = [['icBLM sig.', 1],['icBLM sig.',1],['meas. type','vs']]\n",
      "\n",
      "first_round=True\n",
      "filt=None\n",
      "\n",
      "for rule in filter_list:\n",
      "    new_rule = (df[rule[0]]==rule[1])\n",
      "    if first_round:\n",
      "        filt = new_rule\n",
      "        first_round=False\n",
      "    else:\n",
      "        filt = filt & new_rule\n",
      "\n",
      "        \n",
      "#print filt        \n",
      "datax = df[filt][xdata_col_name]#/50#[df['keithley timestamp'] <0]\n",
      "datay = df[filt][ydata_col_name]#/(50*5e-16)*1.602e-19 #[df['keithley timestamp'] <0]\n",
      "#datax = df[filt][xdata_col_name][3:]/2e-16#[df['keithley timestamp'] <0]\n",
      "#datay = df[filt][ydata_col_name][:-3]#[df['keithley timestamp'] <0]\n",
      "\n",
      "# SELECT datax, datay FROM data_table WHERE type == 'vs' AND volt < 200 ORDER BY datax\n",
      "k = []\n",
      "\n",
      "for i in datay:\n",
      "    if i <= 1e13:\n",
      "        k.append(i)\n",
      "k= np.array(k)\n",
      "print k.mean()\n",
      "print k.std()\n",
      "\n",
      "print 'Length of x data:',len(datax)\n",
      "print 'Length of y data:',len(datay)\n",
      "#plt.xlim(1e8,1e9)\n",
      "#plt.ylim(1e8,1e9)\n",
      "plt.xlabel(xdata_col_name)\n",
      "plt.ylabel(ydata_col_name)\n",
      "plt.title(ydata_col_name+' over '+xdata_col_name)\n",
      "#plt.semilogy(datax, datay, 'o')\n",
      "plt.loglog(datax, datay, 'o')\n",
      "#plt.plot(datax, datay, 'o')"
     ],
     "language": "python",
     "metadata": {},
     "outputs": [
      {
       "output_type": "stream",
       "stream": "stdout",
       "text": [
        "5.19803122635e-11\n",
        "4.10049369522e-11\n",
        "Length of x data: 1574\n",
        "Length of y data: 1574\n"
       ]
      },
      {
       "metadata": {},
       "output_type": "pyout",
       "prompt_number": 300,
       "text": [
        "[<matplotlib.lines.Line2D at 0x27e8c410>]"
       ]
      }
     ],
     "prompt_number": 300
    },
    {
     "cell_type": "code",
     "collapsed": false,
     "input": [
      "#Boolean selection of data also works with strings:\n",
      "# If I want the voltage scans, identified by the tag 'meas. type', I can filter with 'vs':\n",
      "xdata_col_name = 'icBLM ppb'\n",
      "ydata_col_name = 'dBLM max sig. att. corr.'\n",
      "filter_list_extend = [\n",
      "                #[['icBLM sig.', 1],['id',68],['icBLM sig.',1],['meas. type','vs']],               \n",
      "                #[['icBLM sig.', 1],['id',59],['icBLM sig.',1],['meas. type','test']],\n",
      "                #[['icBLM sig.', 1],['id',75],['icBLM sig.',1],['meas. type','vs']],\n",
      "                #[['icBLM sig.', 1],['id',80],['icBLM sig.',1],['meas. type','vs']],\n",
      "                [['icBLM sig.', 1],['id',81],['icBLM sig.',1],['meas. type','vs']],\n",
      "                #[['icBLM sig.', 1],['id',78],['icBLM sig.',1],['meas. type','vs']],\n",
      "                #[['icBLM sig.', 1],['id',79],['icBLM sig.',1],['meas. type','vs']],\n",
      "                #[['icBLM sig.', 1],['id',80],['icBLM sig.',1],['meas. type','vs']],\n",
      "                #[['icBLM sig.', 1],['id',56],['icBLM sig.',1],['meas. type','vs']],\n",
      "                #[['icBLM sig.', 1],['id',57],['icBLM sig.',1],['meas. type','vs']],\n",
      "                #[['icBLM sig.', 1],['id',58],['icBLM sig.',1],['meas. type','vs']]\n",
      "               ]\n",
      "l = len(filter_list_extend)\n",
      "xcomp = [0]*l\n",
      "ycomp = [0]*l\n",
      "\n",
      "u =0\n",
      "for filter_list in filter_list_extend: \n",
      "    first_round=True\n",
      "    filt=None\n",
      "\n",
      "    for rule in filter_list:\n",
      "        new_rule = (df[rule[0]]==rule[1])\n",
      "        if first_round:\n",
      "            filt = new_rule\n",
      "            first_round=False\n",
      "        else:\n",
      "            filt = filt & new_rule\n",
      "\n",
      "        \n",
      "    #print filt        \n",
      "    datax = df[filt][xdata_col_name]#/(2*50*5e-16)#*1.602e-19 #[df['keithley timestamp'] <0]\n",
      "    datay = df[filt][ydata_col_name]#/50#[df['keithley timestamp'] <0]\n",
      "    #datax = df[filt][xdata_col_name][3:]/2e-16#[df['keithley timestamp'] <0]\n",
      "    #datay = df[filt][ydata_col_name][:-3]#[df['keithley timestamp'] <0]\n",
      "    xcomp[u] = np.array(datax) \n",
      "    ycomp[u] = np.array(datay)\n",
      "    u = u+1\n",
      "# SELECT datax, datay FROM data_table WHERE type == 'vs' AND volt < 200 ORDER BY datax\n",
      "k = []\n",
      "\n",
      "for i in datay:\n",
      "    if i <= 1e13:\n",
      "        k.append(i)\n",
      "k= np.array(k)\n",
      "print k.mean()\n",
      "print k.std()\n",
      "\n",
      "print 'Length of x data:',len(datax)\n",
      "print 'Length of y data:',len(datay)\n",
      "#plt.xlim(1e8,1e9)\n",
      "#plt.ylim(1e8,1e9)\n",
      "plt.xlabel(xdata_col_name+' (particles per bunch)')\n",
      "plt.ylabel(ydata_col_name+' (C)')\n",
      "plt.title(ydata_col_name+' over '+xdata_col_name+'\\n H3 100 mu dBLM')\n",
      "#plt.semilogy(datax, datay, 'o')\n",
      "i=0\n",
      "for i in range(0,l):\n",
      "    plt.loglog(xcomp[i], ycomp[i], 'o')\n",
      "    #plt.plot(xcomp[i], ycomp[i], 'o')"
     ],
     "language": "python",
     "metadata": {},
     "outputs": [
      {
       "output_type": "stream",
       "stream": "stdout",
       "text": [
        "0.286042070292\n",
        "0.214520219479\n",
        "Length of x data: 1574\n",
        "Length of y data: 1574\n"
       ]
      }
     ],
     "prompt_number": 309
    },
    {
     "cell_type": "code",
     "collapsed": false,
     "input": [
      "#Boolean selection of data also works with strings:\n",
      "# If I want the voltage scans, identified by the tag 'meas. type', I can filter with 'vs':\n",
      "xdata_col_name = 'meas. nr.'\n",
      "ydata_col_name = 'dBLM max sig. att. corr.'\n",
      "ydata_col_name_divider = 'icBLM ppb'\n",
      "#ydata_col_name_divider = 0\n",
      "filter_list = [['id',49]]\n",
      "\n",
      "\n",
      "\n",
      "first_round=True\n",
      "filt=None\n",
      "\n",
      "for rule in filter_list:\n",
      "    new_rule = (df[rule[0]]==rule[1])\n",
      "    if first_round:\n",
      "        filt = new_rule\n",
      "        first_round=False\n",
      "    else:\n",
      "        filt = filt & new_rule\n",
      "\n",
      "if ydata_col_name_divider == 0: \n",
      "    divider = 1\n",
      "    title = ydata_col_name+' over '+xdata_col_name\n",
      "else: \n",
      "    divider = df[filt][ydata_col_name_divider] \n",
      "    title = ydata_col_name+'/'+ydata_col_name_divider+' over '+xdata_col_name\n",
      "        \n",
      "\n",
      "datax = df[filt][xdata_col_name]\n",
      "#datay = df[filt][ydata_col_name]/((divider))\n",
      "datay = df[filt][ydata_col_name]/((divider*2/(50)))\n",
      "#datay = df[filt][ydata_col_name]/((divider/(2.5e-16))*2*1.602e-19*3600)\n",
      "# SELECT datax, datay FROM data_table WHERE type == 'vs' AND volt < 200 ORDER BY datax\n",
      "#print datay\n",
      "k = []\n",
      "\n",
      "for i in datay:\n",
      "    if i <= 2*datay[:10].mean():\n",
      "        k.append(i)\n",
      "k= np.array(k)\n",
      "print 'mean',k.mean()\n",
      "print 'std',k.std()\n",
      "print k.std()/k.mean()\n",
      "print 'Length of x data:',len(datax)\n",
      "print 'Length of y data:',len(datay)\n",
      "print 'filter_list: ',filter_list\n",
      "\n",
      "print datay\n",
      "\n",
      "xmax = 1.2 * np.max(datax[:])\n",
      "ymax = 1.2 * np.max(datay[:])\n",
      "\n",
      "plt.xlabel(xdata_col_name)\n",
      "plt.ylabel(ydata_col_name+'/'+ydata_col_name_divider)\n",
      "plt.title(title)\n",
      "plt.xlim(0,xmax)\n",
      "plt.ylim(0,ymax)\n",
      "plt.plot(datax, datay, 'o')"
     ],
     "language": "python",
     "metadata": {},
     "outputs": [
      {
       "output_type": "stream",
       "stream": "stdout",
       "text": [
        "mean nan\n",
        "std nan\n",
        "nan\n",
        "Length of x data: 0\n",
        "Length of y data: 0\n",
        "filter_list:  [['id', 49]]\n",
        "Series([], dtype: float64)\n"
       ]
      },
      {
       "metadata": {},
       "output_type": "pyout",
       "prompt_number": 305,
       "text": [
        "[<matplotlib.lines.Line2D at 0x2c774190>]"
       ]
      }
     ],
     "prompt_number": 305
    },
    {
     "cell_type": "heading",
     "level": 3,
     "metadata": {},
     "source": [
      "Example: Elaborate indexing:"
     ]
    },
    {
     "cell_type": "code",
     "collapsed": false,
     "input": [
      "#The possible entries we can choose from is:\n",
      "print list(df) #Or remove the leading print to get a long list."
     ],
     "language": "python",
     "metadata": {},
     "outputs": [
      {
       "output_type": "stream",
       "stream": "stdout",
       "text": [
        "['id', 'meas. type', 'run', 'date', 'detector', 'type', 'xpos', 'ypos', 'ref.', 'ref. DAQ', 'att. ref.', 'volt. ref.', 'diamond', 'att. diamond', 'shunt', 'volt. dBLM', 'scpr11', 'scpr12', 'scpr21', 'scpr22', 'scpr31', 'scpr32', 'scpr41', 'scpr42', 'meas. nr.', 'time', 'UTCtime', 'WC', 'WC sig.', 'WC offset', 'WC noise', 'WC smoothed', 'WC max. sig.', 'WC SNR', 'WC FWHM', 'WC int.', 'WC charge sig.', 'WC ppb', 'icBLM', 'icBLM sig.', 'icBLM offset', 'icBLM noise', 'icBLM smoothed', 'icBLM max. sig.', 'icBLM SNR', 'icBLM max sig. att. corr.', 'icBLM FWHM', 'icBLM int.', 'icBLM int. att. corr.', 'icBLM charge sig.', 'icBLM ppb', 'keithley data', 'keithley timestamp', 'dBLM', 'dBLM sig.', 'dBLM offset', 'dBLM noise', 'dBLM smoothed', 'dBLM max. sig.', 'dBLM SNR', 'dBLM max sig. att. corr.', 'dBLM FWHM', 'dBLM int.', 'dBLM int. att. corr.', 'dBLM charge sig.', 'analyzed', 'file']\n"
       ]
      }
     ],
     "prompt_number": 111
    },
    {
     "cell_type": "code",
     "collapsed": false,
     "input": [
      "#Boolean selection of data also works with strings:\n",
      "# If I want the voltage scans, identified by the tag 'meas. type', I can filter with 'vs':\n",
      "xdata_col_name = 'xpos'\n",
      "ydata_col_name = 'dBLM int.'\n",
      "ydata_col_name_divider = 'icBLM int.'\n",
      "filter_for = 'xpos'\n",
      "# ydata_col_name_divider = 0\n",
      "\n",
      "# pre filter\n",
      "filter_list = [['meas. type','xali'],['ref. DAQ','scope']]\n",
      "\n",
      "first_round=True\n",
      "filt=None\n",
      "\n",
      "for rule in filter_list:\n",
      "    new_rule = (df[rule[0]]==rule[1])\n",
      "    if first_round:\n",
      "        filt = new_rule\n",
      "        first_round=False\n",
      "    else:\n",
      "        filt = filt & new_rule\n",
      "\n",
      "pre_filtered_data = df[filt]\n",
      "\n",
      "filter_list =  list(set(pre_filtered_data[xdata_col_name]))\n",
      "# print filter_list\n",
      "\n",
      "nda = []\n",
      "\n",
      "first_round=True\n",
      "filt=None\n",
      "\n",
      "# if ydata_col_name_divider == 0: \n",
      "#     divider = 1\n",
      "# #     title = ydata_col_name+' over '+xdata_col_name\n",
      "# else: \n",
      "#     divider = pre_filtered_data[filt][ydata_col_name_divider] \n",
      "# #     title = ydata_col_name+' over '+xdata_col_name+'/'+ydata_col_name_divider\n",
      "\n",
      "for rule in filter_list:\n",
      "    fdata = pre_filtered_data[(pre_filtered_data[filter_for]==rule)][ydata_col_name]/pre_filtered_data[(pre_filtered_data[filter_for]==rule)][ydata_col_name_divider]\n",
      "    nda.append([rule,fdata.mean(),fdata.std()])\n",
      "nda = np.array(nda)\n",
      "\n",
      "        \n",
      "# if ydata_col_name_divider == 0: \n",
      "#     divider = 1\n",
      "#     title = ydata_col_name+' over '+xdata_col_name\n",
      "# else: \n",
      "#     divider = df[filt][ydata_col_name_divider] \n",
      "#     title = ydata_col_name+' over '+xdata_col_name+'/'+ydata_col_name_divider\n",
      "        \n",
      "print nda\n",
      "datax = nda[:,0]\n",
      "datay = nda[:,1]\n",
      "deltay = nda[:,2]\n",
      "\n",
      "# # SELECT datax, datay FROM data_table WHERE type == 'vs' AND volt < 200 ORDER BY datax\n",
      "\n",
      "xmax = 1.2 * np.max(nda[:,0])\n",
      "ymax = 1.2 * np.max(nda[:,1])\n",
      "# print 'Length of x data:',len(datax)\n",
      "# print 'Length of y data:',len(datay)\n",
      "plt.xlabel(xdata_col_name)\n",
      "plt.ylabel(ydata_col_name)\n",
      "plt.title(title)\n",
      "\n",
      "plt.xlim(0,xmax)\n",
      "plt.ylim(0,ymax)\n",
      "plt.errorbar(datax, datay,yerr = deltay,linestyle='None')\n",
      "plt.hold(True)\n",
      "plt.plot(datax, datay, 'o')\n",
      "plt.hold(False)"
     ],
     "language": "python",
     "metadata": {},
     "outputs": [
      {
       "output_type": "stream",
       "stream": "stdout",
       "text": [
        "[[  4.26900000e+04   1.37263747e-02   5.15714512e-04]\n",
        " [  4.27900000e+04   1.20816348e-02   1.20681194e-03]\n",
        " [  4.24400000e+04   8.96266865e-03   8.36445033e-04]\n",
        " [  4.28900000e+04   7.71141901e-03   9.47284891e-04]\n",
        " [  4.25400000e+04   1.27212317e-02   6.68451101e-04]\n",
        " [  4.26400000e+04   1.45804555e-02   1.15285638e-03]\n",
        " [  4.27400000e+04   1.22651930e-02   7.76623328e-04]\n",
        " [  4.23900000e+04   5.96080794e-03   6.04307729e-04]\n",
        " [  4.28400000e+04   8.13704240e-03   9.77002066e-04]\n",
        " [  4.24900000e+04   1.26188593e-02   1.82147447e-03]\n",
        " [  4.25900000e+04   1.31812226e-02   8.67212891e-04]]\n"
       ]
      }
     ],
     "prompt_number": 269
    },
    {
     "cell_type": "code",
     "collapsed": false,
     "input": [
      "#Boolean selection of data also works with strings:\n",
      "# If I want the voltage scans, identified by the tag 'meas. type', I can filter with 'vs':\n",
      "xdata_col_name = 'xpos'\n",
      "ydata_col_name = 'dBLM int.'\n",
      "ydata_col_name_divider = 'icBLM int.'\n",
      "filter_for = 'xpos'\n",
      "# ydata_col_name_divider = 0\n",
      "\n",
      "# pre filter\n",
      "filter_list = [['meas. type','xali'],['ref. DAQ','scope']]\n",
      "\n",
      "first_round=True\n",
      "filt=None\n",
      "\n",
      "for rule in filter_list:\n",
      "    new_rule = (df[rule[0]]==rule[1])\n",
      "    if first_round:\n",
      "        filt = new_rule\n",
      "        first_round=False\n",
      "    else:\n",
      "        filt = filt & new_rule\n",
      "\n",
      "pre_filtered_data = df[filt]\n",
      "\n",
      "filter_list =  list(set(pre_filtered_data[xdata_col_name]))\n",
      "# print filter_list\n",
      "\n",
      "nda = []\n",
      "\n",
      "first_round=True\n",
      "filt=None\n",
      "\n",
      "# if ydata_col_name_divider == 0: \n",
      "#     divider = 1\n",
      "# #     title = ydata_col_name+' over '+xdata_col_name\n",
      "# else: \n",
      "#     divider = pre_filtered_data[filt][ydata_col_name_divider] \n",
      "# #     title = ydata_col_name+' over '+xdata_col_name+'/'+ydata_col_name_divider\n",
      "\n",
      "for rule in filter_list:\n",
      "    fdata = pre_filtered_data[(pre_filtered_data[filter_for]==rule)][ydata_col_name]/pre_filtered_data[(pre_filtered_data[filter_for]==rule)][ydata_col_name_divider]\n",
      "    nda.append([rule,fdata.mean(),fdata.std()])\n",
      "nda = np.array(nda)\n",
      "\n",
      "        \n",
      "# if ydata_col_name_divider == 0: \n",
      "#     divider = 1\n",
      "#     title = ydata_col_name+' over '+xdata_col_name\n",
      "# else: \n",
      "#     divider = df[filt][ydata_col_name_divider] \n",
      "#     title = ydata_col_name+' over '+xdata_col_name+'/'+ydata_col_name_divider\n",
      "        \n",
      "print nda\n",
      "datax = nda[:,0]\n",
      "datay = nda[:,1]\n",
      "deltay = nda[:,2]\n",
      "\n",
      "# # SELECT datax, datay FROM data_table WHERE type == 'vs' AND volt < 200 ORDER BY datax\n",
      "\n",
      "xmax = 1.2 * np.max(nda[:,0])\n",
      "ymax = 1.2 * np.max(nda[:,1])\n",
      "# print 'Length of x data:',len(datax)\n",
      "# print 'Length of y data:',len(datay)\n",
      "plt.xlabel(xdata_col_name)\n",
      "plt.ylabel(ydata_col_name)\n",
      "plt.title(title)\n",
      "\n",
      "plt.xlim(0,xmax)\n",
      "plt.ylim(0,ymax)\n",
      "plt.errorbar(datax, datay,yerr = deltay,linestyle='None')\n",
      "plt.hold(True)\n",
      "plt.plot(datax, datay, 'o')\n",
      "plt.hold(False)"
     ],
     "language": "python",
     "metadata": {},
     "outputs": [
      {
       "output_type": "stream",
       "stream": "stdout",
       "text": [
        "[[  4.26900000e+04   1.37263747e-02   5.15714512e-04]\n",
        " [  4.27900000e+04   1.20816348e-02   1.20681194e-03]\n",
        " [  4.24400000e+04   8.96266865e-03   8.36445033e-04]\n",
        " [  4.28900000e+04   7.71141901e-03   9.47284891e-04]\n",
        " [  4.25400000e+04   1.27212317e-02   6.68451101e-04]\n",
        " [  4.26400000e+04   1.45804555e-02   1.15285638e-03]\n",
        " [  4.27400000e+04   1.22651930e-02   7.76623328e-04]\n",
        " [  4.23900000e+04   5.96080794e-03   6.04307729e-04]\n",
        " [  4.28400000e+04   8.13704240e-03   9.77002066e-04]\n",
        " [  4.24900000e+04   1.26188593e-02   1.82147447e-03]\n",
        " [  4.25900000e+04   1.31812226e-02   8.67212891e-04]]\n"
       ]
      }
     ],
     "prompt_number": 269
    },
    {
     "cell_type": "code",
     "collapsed": false,
     "input": [
      "y1 = df['icBLM charge sig.'][df['id'] == 37].values\n",
      "y2 = df['dBLM charge sig.'][df['id'] == 37].values\n",
      "x = df['meas. nr.'][df['id'] == 37].values"
     ],
     "language": "python",
     "metadata": {},
     "outputs": [],
     "prompt_number": 28
    },
    {
     "cell_type": "code",
     "collapsed": true,
     "input": [
      "plt.figure()\n",
      "plt.plot(x-x[0],y1, 'x')\n",
      "#plt.hold(True)\n",
      "plt.figure()\n",
      "plt.plot(x-x[0],y2, 'o')\n",
      "#plt.hold(False)"
     ],
     "language": "python",
     "metadata": {},
     "outputs": [
      {
       "metadata": {},
       "output_type": "pyout",
       "prompt_number": 29,
       "text": [
        "[<matplotlib.lines.Line2D at 0xd0d33d0>]"
       ]
      }
     ],
     "prompt_number": 29
    },
    {
     "cell_type": "code",
     "collapsed": false,
     "input": [
      "plt.figure()\n",
      "plt.plot(y1, y2, 'x')\n",
      "plt.xlabel('icBLM Charge')\n",
      "plt.ylabel('dBLM Charge')"
     ],
     "language": "python",
     "metadata": {},
     "outputs": [
      {
       "metadata": {},
       "output_type": "pyout",
       "prompt_number": 30,
       "text": [
        "<matplotlib.text.Text at 0xd105d70>"
       ]
      }
     ],
     "prompt_number": 30
    },
    {
     "cell_type": "code",
     "collapsed": false,
     "input": [
      "plt.figure()\n",
      "plt.plot(y1/5e-16, 'x')"
     ],
     "language": "python",
     "metadata": {},
     "outputs": [
      {
       "metadata": {},
       "output_type": "pyout",
       "prompt_number": 31,
       "text": [
        "[<matplotlib.lines.Line2D at 0xd29d9b0>]"
       ]
      }
     ],
     "prompt_number": 31
    },
    {
     "cell_type": "code",
     "collapsed": false,
     "input": [
      "np.mean(((Qd/Qic)/(36*100))), np.std(((Qd/Qic)/(36*100)))"
     ],
     "language": "python",
     "metadata": {},
     "outputs": [
      {
       "metadata": {},
       "output_type": "pyout",
       "prompt_number": 34,
       "text": [
        "(0.35772817696408871, 0.055925142731221379)"
       ]
      }
     ],
     "prompt_number": 34
    },
    {
     "cell_type": "code",
     "collapsed": false,
     "input": [
      "(0.031629770548441974, 0.0052792642538440617)"
     ],
     "language": "python",
     "metadata": {},
     "outputs": []
    },
    {
     "cell_type": "code",
     "collapsed": false,
     "input": [
      "Qic = np.array(y1)/5e-16 * 1.6022e-19\n",
      "Qd = np.array(y2)\n",
      "plt.figure()\n",
      "plt.plot((Qd/Qic)/(36*100), 'x')\n",
      "plt.title('3rd. CCE measurement')\n",
      "plt.xlabel('Measurement nr.')\n",
      "plt.ylabel('CCE')\n",
      "plt.grid()"
     ],
     "language": "python",
     "metadata": {},
     "outputs": [],
     "prompt_number": 33
    },
    {
     "cell_type": "code",
     "collapsed": false,
     "input": [
      "plt.figure()\n",
      "plt.plot(Qic / 1.6022e-19,'x')\n",
      "plt.title('1st. CCE measurement - Electrometer')\n",
      "plt.xlabel('Measurement nr.')\n",
      "plt.ylabel('Intensity [# electrons]')\n",
      "plt.grid()\n",
      "plt.figure()\n",
      "plt.plot(nd/3600,'x')\n",
      "plt.title('1st. CCE measurement - Diamond')\n",
      "plt.xlabel('Measurement nr.')\n",
      "plt.ylabel('Intensity [# electrons]')\n",
      "plt.grid()"
     ],
     "language": "python",
     "metadata": {},
     "outputs": [],
     "prompt_number": 47
    },
    {
     "cell_type": "code",
     "collapsed": false,
     "input": [
      "nic = np.array(y1)\n",
      "nd = np.array(y2)\n",
      "plt.figure()\n",
      "plt.plot((nd/nic), 'x')\n",
      "plt.title('2nd. CCE measurement')\n",
      "plt.xlabel('Measurement nr.')\n",
      "plt.ylabel('dBLM int. / Keithley')\n",
      "plt.grid()\n",
      "plt.figure()\n",
      "plt.plot(nic,'x')\n",
      "plt.title('2nd. CCE measurement - Electrometer')\n",
      "plt.xlabel('Measurement nr.')\n",
      "plt.ylabel('Intensity [Keithley steps]')\n",
      "plt.grid()\n",
      "plt.figure()\n",
      "plt.plot(nd/3600,'x')\n",
      "plt.title('2nd. CCE measurement - Diamond')\n",
      "plt.xlabel('Measurement nr.')\n",
      "plt.ylabel('Intensity [dBLM integral]')\n",
      "plt.grid()"
     ],
     "language": "python",
     "metadata": {},
     "outputs": [],
     "prompt_number": 25
    },
    {
     "cell_type": "code",
     "collapsed": false,
     "input": [
      "plt.semilogy(y1/5e-16, 'x')"
     ],
     "language": "python",
     "metadata": {},
     "outputs": [
      {
       "metadata": {},
       "output_type": "pyout",
       "prompt_number": 104,
       "text": [
        "[<matplotlib.lines.Line2D at 0x16edb650>]"
       ]
      }
     ],
     "prompt_number": 104
    },
    {
     "cell_type": "code",
     "collapsed": false,
     "input": [
      "plt.semilogy(y2/1.6e-19 / 3600, 'o')"
     ],
     "language": "python",
     "metadata": {},
     "outputs": [
      {
       "metadata": {},
       "output_type": "pyout",
       "prompt_number": 91,
       "text": [
        "[<matplotlib.lines.Line2D at 0x13311df0>]"
       ]
      }
     ],
     "prompt_number": 91
    },
    {
     "cell_type": "code",
     "collapsed": false,
     "input": [
      "icKt = df['keithley data'][df['keithley data'] > 0]#[df['id'] == 31]\n",
      "icSc = df['icBLM charge sig.'][df['icBLM sig.'] > 0]\n",
      "dKt = df['dBLM max sig. att. corr.'][df['keithley data'] > 0]#[df['id'] == 31]\n",
      "dSc = df['dBLM max sig. att. corr.'][df['icBLM sig.'] > 0]"
     ],
     "language": "python",
     "metadata": {},
     "outputs": [],
     "prompt_number": 112
    },
    {
     "cell_type": "code",
     "collapsed": false,
     "input": [
      "np.mean(icKt/dKt) / np.mean(icSc/dSc)"
     ],
     "language": "python",
     "metadata": {},
     "outputs": [
      {
       "metadata": {},
       "output_type": "pyout",
       "prompt_number": 107,
       "text": [
        "0.21884621839267215"
       ]
      }
     ],
     "prompt_number": 107
    },
    {
     "cell_type": "code",
     "collapsed": false,
     "input": [
      "plt.plot(icKt/dKt,'c')\n",
      "plt.plot(icSc/dSc * 2/5,'x')"
     ],
     "language": "python",
     "metadata": {},
     "outputs": [
      {
       "metadata": {},
       "output_type": "pyout",
       "prompt_number": 115,
       "text": [
        "[<matplotlib.lines.Line2D at 0x213c3970>]"
       ]
      }
     ],
     "prompt_number": 115
    },
    {
     "cell_type": "code",
     "collapsed": false,
     "input": [
      "if '4' in [3,4,5,6]:\n",
      "    print 'yesy'"
     ],
     "language": "python",
     "metadata": {},
     "outputs": [],
     "prompt_number": 103
    },
    {
     "cell_type": "code",
     "collapsed": false,
     "input": [
      "plt.semilogy(df['dBLM max sig. att. corr.'][df['dBLM sig.']> 0], 'x')"
     ],
     "language": "python",
     "metadata": {},
     "outputs": [
      {
       "metadata": {},
       "output_type": "pyout",
       "prompt_number": 10,
       "text": [
        "[<matplotlib.lines.Line2D at 0x8fbfdf0>]"
       ]
      }
     ],
     "prompt_number": 10
    },
    {
     "cell_type": "code",
     "collapsed": false,
     "input": [],
     "language": "python",
     "metadata": {},
     "outputs": []
    }
   ],
   "metadata": {}
  }
 ]
}